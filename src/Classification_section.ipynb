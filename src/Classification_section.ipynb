{
 "cells": [
  {
   "cell_type": "markdown",
   "metadata": {},
   "source": [
    "**First, we import all the libraries that we will be using in this section**"
   ]
  },
  {
   "cell_type": "code",
   "execution_count": 1,
   "metadata": {},
   "outputs": [],
   "source": [
    "import numpy as np\n",
    "import pandas as pd\n",
    "import matplotlib.pyplot as plt\n",
    "import seaborn as sns\n",
    "import pickle\n",
    "import warnings\n",
    "#............\n",
    "\n",
    "from sklearn.model_selection import train_test_split\n",
    "from sklearn.preprocessing import StandardScaler,LabelEncoder\n",
    "\n",
    "from sklearn import svm\n",
    "from sklearn.model_selection import KFold,cross_val_score\n",
    "from sklearn import metrics\n",
    "\n",
    "#............\n",
    "from keras import Sequential\n",
    "from keras.layers import Flatten,Input, Dropout,Concatenate,Dense\n",
    "from keras.models import Model \n",
    "from keras.utils import plot_model,to_categorical\n",
    "#............\n",
    "\n",
    "\n",
    "warnings.filterwarnings('ignore')\n",
    "%matplotlib inline\n",
    "\n",
    "#.....................................................\n"
   ]
  },
  {
   "cell_type": "code",
   "execution_count": 2,
   "metadata": {},
   "outputs": [],
   "source": [
    "path_fetuers=r\"..\\data\\data fetuers\\Data Fetuers.txt\"\n",
    "model_path=r\"models\\\\\"\n",
    "\n",
    "#.....................................................\n"
   ]
  },
  {
   "cell_type": "code",
   "execution_count": 3,
   "metadata": {},
   "outputs": [],
   "source": [
    "np.random.seed(42)"
   ]
  },
  {
   "cell_type": "markdown",
   "metadata": {},
   "source": [
    "---\n",
    "## 1. **Initializ dataset** <a class=\"anchor\" id=\"1\"></a> "
   ]
  },
  {
   "cell_type": "markdown",
   "metadata": {},
   "source": [
    "---\n",
    "### 1.1 **Load fetuers**<a class=\"anchor\" id=\"1.1\"></a>"
   ]
  },
  {
   "cell_type": "code",
   "execution_count": 4,
   "metadata": {},
   "outputs": [],
   "source": [
    "df=pd.read_csv(path_fetuers,sep=';',header=None)\n",
    "df[df.columns[-1]]=df[df.columns[-1]].map(lambda x:chr(int(x))).astype(str)\n",
    "df=df.rename(str, axis=1)\n",
    "df=df.rename(columns={'54': \"target\"})\n",
    "\n",
    "#.....................................................\n"
   ]
  },
  {
   "cell_type": "markdown",
   "metadata": {},
   "source": [
    "\n",
    "---\n",
    "### 1.2 **Exploratory data analysis**<a class=\"anchor\" id=\"1.2\"></a>\n"
   ]
  },
  {
   "cell_type": "code",
   "execution_count": 5,
   "metadata": {},
   "outputs": [
    {
     "name": "stdout",
     "output_type": "stream",
     "text": [
      "Dimensions of the data set =  (125262, 55)\n"
     ]
    }
   ],
   "source": [
    "print(\"Dimensions of the data set = \",df.shape)"
   ]
  },
  {
   "cell_type": "markdown",
   "metadata": {},
   "source": [
    "`We can see that there are 125262 image and 55 variables in the data set.`"
   ]
  },
  {
   "cell_type": "markdown",
   "metadata": {},
   "source": [
    "**preview the dataset**"
   ]
  },
  {
   "cell_type": "code",
   "execution_count": 6,
   "metadata": {},
   "outputs": [
    {
     "data": {
      "text/html": [
       "<div>\n",
       "<style scoped>\n",
       "    .dataframe tbody tr th:only-of-type {\n",
       "        vertical-align: middle;\n",
       "    }\n",
       "\n",
       "    .dataframe tbody tr th {\n",
       "        vertical-align: top;\n",
       "    }\n",
       "\n",
       "    .dataframe thead th {\n",
       "        text-align: right;\n",
       "    }\n",
       "</style>\n",
       "<table border=\"1\" class=\"dataframe\">\n",
       "  <thead>\n",
       "    <tr style=\"text-align: right;\">\n",
       "      <th></th>\n",
       "      <th>0</th>\n",
       "      <th>1</th>\n",
       "      <th>2</th>\n",
       "      <th>3</th>\n",
       "      <th>4</th>\n",
       "      <th>5</th>\n",
       "      <th>6</th>\n",
       "      <th>7</th>\n",
       "      <th>8</th>\n",
       "      <th>9</th>\n",
       "      <th>...</th>\n",
       "      <th>45</th>\n",
       "      <th>46</th>\n",
       "      <th>47</th>\n",
       "      <th>48</th>\n",
       "      <th>49</th>\n",
       "      <th>50</th>\n",
       "      <th>51</th>\n",
       "      <th>52</th>\n",
       "      <th>53</th>\n",
       "      <th>target</th>\n",
       "    </tr>\n",
       "  </thead>\n",
       "  <tbody>\n",
       "    <tr>\n",
       "      <th>18967</th>\n",
       "      <td>1.0</td>\n",
       "      <td>1.385377</td>\n",
       "      <td>2.503383</td>\n",
       "      <td>3.110352</td>\n",
       "      <td>3.043931</td>\n",
       "      <td>3.061419</td>\n",
       "      <td>2.416120</td>\n",
       "      <td>2.780019</td>\n",
       "      <td>2.273744</td>\n",
       "      <td>2.071630</td>\n",
       "      <td>...</td>\n",
       "      <td>1.926162</td>\n",
       "      <td>1.363408</td>\n",
       "      <td>1.007987</td>\n",
       "      <td>1.522690</td>\n",
       "      <td>0.959936</td>\n",
       "      <td>0.604516</td>\n",
       "      <td>1.309634</td>\n",
       "      <td>0.746880</td>\n",
       "      <td>0.391460</td>\n",
       "      <td>D</td>\n",
       "    </tr>\n",
       "    <tr>\n",
       "      <th>102521</th>\n",
       "      <td>0.0</td>\n",
       "      <td>0.935188</td>\n",
       "      <td>2.399481</td>\n",
       "      <td>2.005692</td>\n",
       "      <td>2.633254</td>\n",
       "      <td>1.773553</td>\n",
       "      <td>3.046755</td>\n",
       "      <td>3.098731</td>\n",
       "      <td>3.067175</td>\n",
       "      <td>3.132199</td>\n",
       "      <td>...</td>\n",
       "      <td>1.641033</td>\n",
       "      <td>1.715333</td>\n",
       "      <td>1.734753</td>\n",
       "      <td>0.702322</td>\n",
       "      <td>0.776622</td>\n",
       "      <td>0.796042</td>\n",
       "      <td>0.540370</td>\n",
       "      <td>0.466070</td>\n",
       "      <td>0.446651</td>\n",
       "      <td>U</td>\n",
       "    </tr>\n",
       "    <tr>\n",
       "      <th>48965</th>\n",
       "      <td>0.0</td>\n",
       "      <td>1.773484</td>\n",
       "      <td>2.728601</td>\n",
       "      <td>2.162029</td>\n",
       "      <td>2.428938</td>\n",
       "      <td>1.829068</td>\n",
       "      <td>0.236092</td>\n",
       "      <td>3.059619</td>\n",
       "      <td>0.197679</td>\n",
       "      <td>0.193520</td>\n",
       "      <td>...</td>\n",
       "      <td>1.179504</td>\n",
       "      <td>1.430496</td>\n",
       "      <td>1.315725</td>\n",
       "      <td>0.447653</td>\n",
       "      <td>0.698645</td>\n",
       "      <td>0.583875</td>\n",
       "      <td>0.219306</td>\n",
       "      <td>0.031685</td>\n",
       "      <td>0.083085</td>\n",
       "      <td>I</td>\n",
       "    </tr>\n",
       "    <tr>\n",
       "      <th>124500</th>\n",
       "      <td>0.0</td>\n",
       "      <td>1.410694</td>\n",
       "      <td>2.828065</td>\n",
       "      <td>2.756448</td>\n",
       "      <td>3.071958</td>\n",
       "      <td>2.726238</td>\n",
       "      <td>0.405685</td>\n",
       "      <td>2.988443</td>\n",
       "      <td>0.339305</td>\n",
       "      <td>0.133888</td>\n",
       "      <td>...</td>\n",
       "      <td>1.371885</td>\n",
       "      <td>1.546215</td>\n",
       "      <td>1.393353</td>\n",
       "      <td>1.031907</td>\n",
       "      <td>1.206237</td>\n",
       "      <td>1.053375</td>\n",
       "      <td>0.853171</td>\n",
       "      <td>1.027502</td>\n",
       "      <td>0.874640</td>\n",
       "      <td>Y</td>\n",
       "    </tr>\n",
       "    <tr>\n",
       "      <th>26115</th>\n",
       "      <td>0.0</td>\n",
       "      <td>1.417050</td>\n",
       "      <td>3.003051</td>\n",
       "      <td>2.749629</td>\n",
       "      <td>2.808614</td>\n",
       "      <td>2.586846</td>\n",
       "      <td>2.423262</td>\n",
       "      <td>2.762792</td>\n",
       "      <td>2.248462</td>\n",
       "      <td>2.695132</td>\n",
       "      <td>...</td>\n",
       "      <td>1.578974</td>\n",
       "      <td>1.492232</td>\n",
       "      <td>1.361479</td>\n",
       "      <td>1.202757</td>\n",
       "      <td>1.116015</td>\n",
       "      <td>0.985262</td>\n",
       "      <td>0.895278</td>\n",
       "      <td>0.808536</td>\n",
       "      <td>0.677783</td>\n",
       "      <td>F</td>\n",
       "    </tr>\n",
       "  </tbody>\n",
       "</table>\n",
       "<p>5 rows × 55 columns</p>\n",
       "</div>"
      ],
      "text/plain": [
       "          0         1         2         3         4         5         6  \\\n",
       "18967   1.0  1.385377  2.503383  3.110352  3.043931  3.061419  2.416120   \n",
       "102521  0.0  0.935188  2.399481  2.005692  2.633254  1.773553  3.046755   \n",
       "48965   0.0  1.773484  2.728601  2.162029  2.428938  1.829068  0.236092   \n",
       "124500  0.0  1.410694  2.828065  2.756448  3.071958  2.726238  0.405685   \n",
       "26115   0.0  1.417050  3.003051  2.749629  2.808614  2.586846  2.423262   \n",
       "\n",
       "               7         8         9  ...        45        46        47  \\\n",
       "18967   2.780019  2.273744  2.071630  ...  1.926162  1.363408  1.007987   \n",
       "102521  3.098731  3.067175  3.132199  ...  1.641033  1.715333  1.734753   \n",
       "48965   3.059619  0.197679  0.193520  ...  1.179504  1.430496  1.315725   \n",
       "124500  2.988443  0.339305  0.133888  ...  1.371885  1.546215  1.393353   \n",
       "26115   2.762792  2.248462  2.695132  ...  1.578974  1.492232  1.361479   \n",
       "\n",
       "              48        49        50        51        52        53  target  \n",
       "18967   1.522690  0.959936  0.604516  1.309634  0.746880  0.391460       D  \n",
       "102521  0.702322  0.776622  0.796042  0.540370  0.466070  0.446651       U  \n",
       "48965   0.447653  0.698645  0.583875  0.219306  0.031685  0.083085       I  \n",
       "124500  1.031907  1.206237  1.053375  0.853171  1.027502  0.874640       Y  \n",
       "26115   1.202757  1.116015  0.985262  0.895278  0.808536  0.677783       F  \n",
       "\n",
       "[5 rows x 55 columns]"
      ]
     },
     "execution_count": 6,
     "metadata": {},
     "output_type": "execute_result"
    }
   ],
   "source": [
    "df.sample(5) "
   ]
  },
  {
   "cell_type": "markdown",
   "metadata": {},
   "source": [
    "**Our target variable is the `target`. So, I will check its distribution.**"
   ]
  },
  {
   "cell_type": "code",
   "execution_count": 7,
   "metadata": {},
   "outputs": [
    {
     "data": {
      "text/plain": [
       "F    7150\n",
       "K    6443\n",
       "L    6200\n",
       "V    5835\n",
       "U    5791\n",
       "W    5759\n",
       "G    5737\n",
       "R    5724\n",
       "B    5714\n",
       "Y    5696\n",
       "H    5602\n",
       "D    5477\n",
       "I    5371\n",
       "S    5325\n",
       "E    5138\n",
       "T    5099\n",
       "X    5029\n",
       "O    4916\n",
       "A    4889\n",
       "Q    4521\n",
       "P    4294\n",
       "C    4230\n",
       "M    2947\n",
       "N    2375\n",
       "Name: target, dtype: int64"
      ]
     },
     "execution_count": 7,
     "metadata": {},
     "output_type": "execute_result"
    }
   ],
   "source": [
    "df['target'].value_counts()"
   ]
  },
  {
   "cell_type": "markdown",
   "metadata": {},
   "source": [
    "**view the percentage distribution of target_class column.**"
   ]
  },
  {
   "cell_type": "code",
   "execution_count": 8,
   "metadata": {},
   "outputs": [
    {
     "data": {
      "image/png": "[encoded data removed]",
      "text/plain": [
       "<Figure size 1700x500 with 1 Axes>"
      ]
     },
     "metadata": {},
     "output_type": "display_data"
    }
   ],
   "source": [
    "plt.figure(figsize=(17, 5))\n",
    "total = float(len(df))\n",
    "ax = sns.countplot(x=df['target'])\n",
    "\n",
    "for p in ax.patches:\n",
    "    height = p.get_height()\n",
    "    ax.text(p.get_x()+p.get_width()/2.0,height + 3,'{:1.1f}%'.format((height/total)*100), ha=\"center\")\n",
    "\n",
    "ax.set_title('Target variable distribution', fontsize=20, y=1.05)\n",
    "sns.despine(right=True)\n",
    "\n",
    "#.....................................................\n"
   ]
  },
  {
   "cell_type": "markdown",
   "metadata": {},
   "source": [
    "**view summary of dataset**"
   ]
  },
  {
   "cell_type": "code",
   "execution_count": 9,
   "metadata": {},
   "outputs": [
    {
     "name": "stdout",
     "output_type": "stream",
     "text": [
      "<class 'pandas.core.frame.DataFrame'>\n",
      "RangeIndex: 125262 entries, 0 to 125261\n",
      "Data columns (total 55 columns):\n",
      " #   Column  Non-Null Count   Dtype  \n",
      "---  ------  --------------   -----  \n",
      " 0   0       125262 non-null  float64\n",
      " 1   1       125262 non-null  float64\n",
      " 2   2       125262 non-null  float64\n",
      " 3   3       125262 non-null  float64\n",
      " 4   4       125262 non-null  float64\n",
      " 5   5       125262 non-null  float64\n",
      " 6   6       125262 non-null  float64\n",
      " 7   7       125262 non-null  float64\n",
      " 8   8       125262 non-null  float64\n",
      " 9   9       125262 non-null  float64\n",
      " 10  10      125262 non-null  float64\n",
      " 11  11      125262 non-null  float64\n",
      " 12  12      125262 non-null  float64\n",
      " 13  13      125262 non-null  float64\n",
      " 14  14      125262 non-null  float64\n",
      " 15  15      125262 non-null  float64\n",
      " 16  16      125262 non-null  float64\n",
      " 17  17      125262 non-null  float64\n",
      " 18  18      125262 non-null  float64\n",
      " 19  19      125262 non-null  float64\n",
      " 20  20      125262 non-null  float64\n",
      " 21  21      125262 non-null  float64\n",
      " 22  22      125262 non-null  float64\n",
      " 23  23      125262 non-null  float64\n",
      " 24  24      125262 non-null  float64\n",
      " 25  25      125262 non-null  float64\n",
      " 26  26      125262 non-null  float64\n",
      " 27  27      125262 non-null  float64\n",
      " 28  28      125262 non-null  float64\n",
      " 29  29      125262 non-null  float64\n",
      " 30  30      125262 non-null  float64\n",
      " 31  31      125262 non-null  float64\n",
      " 32  32      125262 non-null  float64\n",
      " 33  33      125262 non-null  float64\n",
      " 34  34      125262 non-null  float64\n",
      " 35  35      125262 non-null  float64\n",
      " 36  36      125262 non-null  float64\n",
      " 37  37      125262 non-null  float64\n",
      " 38  38      125262 non-null  float64\n",
      " 39  39      125262 non-null  float64\n",
      " 40  40      125262 non-null  float64\n",
      " 41  41      125262 non-null  float64\n",
      " 42  42      125262 non-null  float64\n",
      " 43  43      125262 non-null  float64\n",
      " 44  44      125262 non-null  float64\n",
      " 45  45      125262 non-null  float64\n",
      " 46  46      125262 non-null  float64\n",
      " 47  47      125262 non-null  float64\n",
      " 48  48      125262 non-null  float64\n",
      " 49  49      125262 non-null  float64\n",
      " 50  50      125262 non-null  float64\n",
      " 51  51      125262 non-null  float64\n",
      " 52  52      125262 non-null  float64\n",
      " 53  53      125262 non-null  float64\n",
      " 54  target  125262 non-null  object \n",
      "dtypes: float64(54), object(1)\n",
      "memory usage: 52.6+ MB\n"
     ]
    }
   ],
   "source": [
    "df.info()"
   ]
  },
  {
   "cell_type": "markdown",
   "metadata": {},
   "source": [
    "`We can see that there are no missing values in the data set and all variables are numeric variables except for the target variable.`"
   ]
  },
  {
   "cell_type": "markdown",
   "metadata": {},
   "source": [
    "**Explore missing values in variables**"
   ]
  },
  {
   "cell_type": "code",
   "execution_count": 10,
   "metadata": {},
   "outputs": [
    {
     "data": {
      "text/plain": [
       "0         0\n",
       "1         0\n",
       "2         0\n",
       "3         0\n",
       "4         0\n",
       "5         0\n",
       "6         0\n",
       "7         0\n",
       "8         0\n",
       "9         0\n",
       "10        0\n",
       "11        0\n",
       "12        0\n",
       "13        0\n",
       "14        0\n",
       "15        0\n",
       "16        0\n",
       "17        0\n",
       "18        0\n",
       "19        0\n",
       "20        0\n",
       "21        0\n",
       "22        0\n",
       "23        0\n",
       "24        0\n",
       "25        0\n",
       "26        0\n",
       "27        0\n",
       "28        0\n",
       "29        0\n",
       "30        0\n",
       "31        0\n",
       "32        0\n",
       "33        0\n",
       "34        0\n",
       "35        0\n",
       "36        0\n",
       "37        0\n",
       "38        0\n",
       "39        0\n",
       "40        0\n",
       "41        0\n",
       "42        0\n",
       "43        0\n",
       "44        0\n",
       "45        0\n",
       "46        0\n",
       "47        0\n",
       "48        0\n",
       "49        0\n",
       "50        0\n",
       "51        0\n",
       "52        0\n",
       "53        0\n",
       "target    0\n",
       "dtype: int64"
      ]
     },
     "execution_count": 10,
     "metadata": {},
     "output_type": "execute_result"
    }
   ],
   "source": [
    "df.isnull().sum()"
   ]
  },
  {
   "cell_type": "markdown",
   "metadata": {},
   "source": [
    "---\n",
    "### 1.3 **Declare feature vector and target variable**<a class=\"anchor\" id=\"1.3\"></a>"
   ]
  },
  {
   "cell_type": "code",
   "execution_count": 11,
   "metadata": {},
   "outputs": [
    {
     "data": {
      "text/plain": [
       "((125262, 54), (125262,))"
      ]
     },
     "execution_count": 11,
     "metadata": {},
     "output_type": "execute_result"
    }
   ],
   "source": [
    "X=df.drop('target',axis=1)\n",
    "y=df['target']\n",
    "X.shape,y.shape\n",
    "\n",
    "#.....................................................\n"
   ]
  },
  {
   "cell_type": "markdown",
   "metadata": {},
   "source": [
    "---\n",
    "### 1.4 **Split data into separate training and test set**<a class=\"anchor\" id=\"1.4\"></a>\n"
   ]
  },
  {
   "cell_type": "markdown",
   "metadata": {},
   "source": [
    "Divide the data set into 70% for training and 30% for testing."
   ]
  },
  {
   "cell_type": "code",
   "execution_count": 12,
   "metadata": {},
   "outputs": [
    {
     "name": "stdout",
     "output_type": "stream",
     "text": [
      "size train= 87683 ; size test= 37579\n"
     ]
    }
   ],
   "source": [
    "X_train,X_test,y_train,y_test=train_test_split(X,y,test_size=0.3,random_state=42)\n",
    "print('size train=',len(y_train),'; size test=',len(y_test))\n",
    "\n",
    "#.....................................................\n"
   ]
  },
  {
   "cell_type": "markdown",
   "metadata": {},
   "source": [
    "---\n",
    "### 1.5 **Features Scaling**<a class=\"anchor\" id=\"1.5\"></a>\n"
   ]
  },
  {
   "cell_type": "markdown",
   "metadata": {},
   "source": [
    " Standardize features by removing the mean and scaling to unit variance.\n",
    " The standard score of a sample x is calculated as:\n",
    "\n",
    "\\begin{equation}\n",
    "\\large\n",
    "z=\\frac {(x-\\mu)}{\\sigma}\n",
    "\\end{equation}\n",
    "**where**  $\\mu$ is the mean of the training samples,and \\$\\sigma$ is the standard deviation of the training samples"
   ]
  },
  {
   "cell_type": "code",
   "execution_count": 13,
   "metadata": {},
   "outputs": [],
   "source": [
    "cols = X_train.columns\n",
    "scaler = StandardScaler()\n",
    "X_train = scaler.fit_transform(X_train)\n",
    "X_test = scaler.transform(X_test)\n",
    "\n",
    "#.....................................................\n"
   ]
  },
  {
   "cell_type": "code",
   "execution_count": 14,
   "metadata": {},
   "outputs": [],
   "source": [
    "X_train = pd.DataFrame(X_train, columns=[cols])\n",
    "X_test = pd.DataFrame(X_test, columns=[cols])\n",
    "\n",
    "#.....................................................\n"
   ]
  },
  {
   "cell_type": "code",
   "execution_count": 15,
   "metadata": {},
   "outputs": [
    {
     "data": {
      "text/html": [
       "<div>\n",
       "<style scoped>\n",
       "    .dataframe tbody tr th:only-of-type {\n",
       "        vertical-align: middle;\n",
       "    }\n",
       "\n",
       "    .dataframe tbody tr th {\n",
       "        vertical-align: top;\n",
       "    }\n",
       "\n",
       "    .dataframe thead tr th {\n",
       "        text-align: left;\n",
       "    }\n",
       "</style>\n",
       "<table border=\"1\" class=\"dataframe\">\n",
       "  <thead>\n",
       "    <tr>\n",
       "      <th></th>\n",
       "      <th>0</th>\n",
       "      <th>1</th>\n",
       "      <th>2</th>\n",
       "      <th>3</th>\n",
       "      <th>4</th>\n",
       "      <th>5</th>\n",
       "      <th>6</th>\n",
       "      <th>7</th>\n",
       "      <th>8</th>\n",
       "      <th>9</th>\n",
       "      <th>...</th>\n",
       "      <th>44</th>\n",
       "      <th>45</th>\n",
       "      <th>46</th>\n",
       "      <th>47</th>\n",
       "      <th>48</th>\n",
       "      <th>49</th>\n",
       "      <th>50</th>\n",
       "      <th>51</th>\n",
       "      <th>52</th>\n",
       "      <th>53</th>\n",
       "    </tr>\n",
       "  </thead>\n",
       "  <tbody>\n",
       "    <tr>\n",
       "      <th>5133</th>\n",
       "      <td>-0.284086</td>\n",
       "      <td>-1.760678</td>\n",
       "      <td>-4.488699</td>\n",
       "      <td>-1.007800</td>\n",
       "      <td>0.605374</td>\n",
       "      <td>-0.611567</td>\n",
       "      <td>0.686853</td>\n",
       "      <td>0.443321</td>\n",
       "      <td>0.718237</td>\n",
       "      <td>0.140586</td>\n",
       "      <td>...</td>\n",
       "      <td>1.910487</td>\n",
       "      <td>2.359693</td>\n",
       "      <td>5.349309</td>\n",
       "      <td>4.739576</td>\n",
       "      <td>3.663283</td>\n",
       "      <td>3.850098</td>\n",
       "      <td>3.380193</td>\n",
       "      <td>2.184761</td>\n",
       "      <td>1.910487</td>\n",
       "      <td>1.144553</td>\n",
       "    </tr>\n",
       "    <tr>\n",
       "      <th>22656</th>\n",
       "      <td>-0.284086</td>\n",
       "      <td>0.174645</td>\n",
       "      <td>0.578405</td>\n",
       "      <td>-1.490116</td>\n",
       "      <td>-1.367828</td>\n",
       "      <td>-1.686338</td>\n",
       "      <td>-1.321160</td>\n",
       "      <td>-1.297393</td>\n",
       "      <td>-1.492094</td>\n",
       "      <td>-0.872546</td>\n",
       "      <td>...</td>\n",
       "      <td>0.493614</td>\n",
       "      <td>-0.061346</td>\n",
       "      <td>0.377247</td>\n",
       "      <td>0.042641</td>\n",
       "      <td>0.324756</td>\n",
       "      <td>0.831810</td>\n",
       "      <td>0.644832</td>\n",
       "      <td>-0.114507</td>\n",
       "      <td>0.493614</td>\n",
       "      <td>0.189250</td>\n",
       "    </tr>\n",
       "    <tr>\n",
       "      <th>5693</th>\n",
       "      <td>-0.284086</td>\n",
       "      <td>0.376264</td>\n",
       "      <td>0.444976</td>\n",
       "      <td>-1.314539</td>\n",
       "      <td>-1.260797</td>\n",
       "      <td>-1.472973</td>\n",
       "      <td>-2.040973</td>\n",
       "      <td>0.303486</td>\n",
       "      <td>-1.897356</td>\n",
       "      <td>-1.232068</td>\n",
       "      <td>...</td>\n",
       "      <td>-1.204198</td>\n",
       "      <td>-0.579698</td>\n",
       "      <td>-0.226524</td>\n",
       "      <td>-0.307282</td>\n",
       "      <td>-0.322927</td>\n",
       "      <td>-0.007111</td>\n",
       "      <td>-0.120630</td>\n",
       "      <td>-1.399891</td>\n",
       "      <td>-1.204198</td>\n",
       "      <td>-1.391483</td>\n",
       "    </tr>\n",
       "    <tr>\n",
       "      <th>58309</th>\n",
       "      <td>-0.284086</td>\n",
       "      <td>0.568815</td>\n",
       "      <td>0.510088</td>\n",
       "      <td>1.434167</td>\n",
       "      <td>0.994589</td>\n",
       "      <td>1.525838</td>\n",
       "      <td>0.689625</td>\n",
       "      <td>0.289228</td>\n",
       "      <td>0.700768</td>\n",
       "      <td>-1.259064</td>\n",
       "      <td>...</td>\n",
       "      <td>1.271357</td>\n",
       "      <td>-0.203570</td>\n",
       "      <td>0.206328</td>\n",
       "      <td>-0.252527</td>\n",
       "      <td>0.405552</td>\n",
       "      <td>0.961989</td>\n",
       "      <td>0.655578</td>\n",
       "      <td>0.436557</td>\n",
       "      <td>1.271357</td>\n",
       "      <td>0.898921</td>\n",
       "    </tr>\n",
       "    <tr>\n",
       "      <th>28635</th>\n",
       "      <td>-0.284086</td>\n",
       "      <td>0.441249</td>\n",
       "      <td>0.255133</td>\n",
       "      <td>0.632340</td>\n",
       "      <td>0.508154</td>\n",
       "      <td>0.629958</td>\n",
       "      <td>-2.033123</td>\n",
       "      <td>0.462565</td>\n",
       "      <td>-1.923558</td>\n",
       "      <td>-1.273640</td>\n",
       "      <td>...</td>\n",
       "      <td>-0.303661</td>\n",
       "      <td>-1.056882</td>\n",
       "      <td>-0.936576</td>\n",
       "      <td>-1.257435</td>\n",
       "      <td>-0.426174</td>\n",
       "      <td>-0.193356</td>\n",
       "      <td>-0.625186</td>\n",
       "      <td>-0.716584</td>\n",
       "      <td>-0.303661</td>\n",
       "      <td>-0.833296</td>\n",
       "    </tr>\n",
       "  </tbody>\n",
       "</table>\n",
       "<p>5 rows × 54 columns</p>\n",
       "</div>"
      ],
      "text/plain": [
       "              0         1         2         3         4         5         6  \\\n",
       "5133  -0.284086 -1.760678 -4.488699 -1.007800  0.605374 -0.611567  0.686853   \n",
       "22656 -0.284086  0.174645  0.578405 -1.490116 -1.367828 -1.686338 -1.321160   \n",
       "5693  -0.284086  0.376264  0.444976 -1.314539 -1.260797 -1.472973 -2.040973   \n",
       "58309 -0.284086  0.568815  0.510088  1.434167  0.994589  1.525838  0.689625   \n",
       "28635 -0.284086  0.441249  0.255133  0.632340  0.508154  0.629958 -2.033123   \n",
       "\n",
       "              7         8         9  ...        44        45        46  \\\n",
       "5133   0.443321  0.718237  0.140586  ...  1.910487  2.359693  5.349309   \n",
       "22656 -1.297393 -1.492094 -0.872546  ...  0.493614 -0.061346  0.377247   \n",
       "5693   0.303486 -1.897356 -1.232068  ... -1.204198 -0.579698 -0.226524   \n",
       "58309  0.289228  0.700768 -1.259064  ...  1.271357 -0.203570  0.206328   \n",
       "28635  0.462565 -1.923558 -1.273640  ... -0.303661 -1.056882 -0.936576   \n",
       "\n",
       "             47        48        49        50        51        52        53  \n",
       "5133   4.739576  3.663283  3.850098  3.380193  2.184761  1.910487  1.144553  \n",
       "22656  0.042641  0.324756  0.831810  0.644832 -0.114507  0.493614  0.189250  \n",
       "5693  -0.307282 -0.322927 -0.007111 -0.120630 -1.399891 -1.204198 -1.391483  \n",
       "58309 -0.252527  0.405552  0.961989  0.655578  0.436557  1.271357  0.898921  \n",
       "28635 -1.257435 -0.426174 -0.193356 -0.625186 -0.716584 -0.303661 -0.833296  \n",
       "\n",
       "[5 rows x 54 columns]"
      ]
     },
     "execution_count": 15,
     "metadata": {},
     "output_type": "execute_result"
    }
   ],
   "source": [
    "X_train.sample(5) "
   ]
  },
  {
   "cell_type": "markdown",
   "metadata": {},
   "source": [
    "**Save Scaler**"
   ]
  },
  {
   "cell_type": "code",
   "execution_count": 16,
   "metadata": {},
   "outputs": [],
   "source": [
    "filename=\"scaler.sav\"\n",
    "path=model_path+filename\n",
    "pickle.dump(scaler, open(path, 'wb'))"
   ]
  },
  {
   "cell_type": "markdown",
   "metadata": {},
   "source": [
    "---\n",
    "### 1.6 **Encoding Labels**<a class=\"anchor\" id=\"1.6\"></a>\n",
    " "
   ]
  },
  {
   "cell_type": "code",
   "execution_count": 17,
   "metadata": {},
   "outputs": [],
   "source": [
    "encoder = LabelEncoder()\n",
    "encoder.fit(y_train)\n",
    "y_train = encoder.transform(y_train) # encoding train labels \n",
    "encoder.fit(y_test)\n",
    "y_test = encoder.transform(y_test)   # encoding test labels \n",
    "\n",
    "#.....................................................\n"
   ]
  },
  {
   "cell_type": "code",
   "execution_count": 18,
   "metadata": {},
   "outputs": [
    {
     "data": {
      "text/plain": [
       "array([ 2,  3, 10, ...,  0,  3, 23])"
      ]
     },
     "execution_count": 18,
     "metadata": {},
     "output_type": "execute_result"
    }
   ],
   "source": [
    "y_train # encoding train labels "
   ]
  },
  {
   "cell_type": "code",
   "execution_count": 19,
   "metadata": {},
   "outputs": [
    {
     "data": {
      "text/plain": [
       "array([ 3, 19,  8, ..., 18, 19,  6])"
      ]
     },
     "execution_count": 19,
     "metadata": {},
     "output_type": "execute_result"
    }
   ],
   "source": [
    "y_test #encoding test labels "
   ]
  },
  {
   "cell_type": "markdown",
   "metadata": {},
   "source": [
    "**Save Encoder**"
   ]
  },
  {
   "cell_type": "code",
   "execution_count": 20,
   "metadata": {},
   "outputs": [],
   "source": [
    "filename=\"encoder.sav\"\n",
    "path=model_path+filename\n",
    "pickle.dump(encoder, open(path, 'wb'))"
   ]
  },
  {
   "cell_type": "markdown",
   "metadata": {},
   "source": [
    "We now have X_train dataset ready to be fed into the classifiers. I will do it as follows."
   ]
  },
  {
   "cell_type": "markdown",
   "metadata": {},
   "source": [
    "---\n",
    "## 2. **Algorithms** <a class=\"anchor\" id=\"2\"></a> \n"
   ]
  },
  {
   "cell_type": "markdown",
   "metadata": {},
   "source": [
    "---\n",
    "### 2.1 **Support Vector Machines (SVM)** <a class=\"anchor\" id=\"2.1\"></a> "
   ]
  },
  {
   "cell_type": "markdown",
   "metadata": {},
   "source": [
    "A support vector machine constructs a hyper-plane or set of hyper-planes in a high or infinite dimensional space, which can be used for classification, regression or other tasks. ......"
   ]
  },
  {
   "cell_type": "markdown",
   "metadata": {},
   "source": [
    "---\n",
    "#### 2.1.1 **SVM with default hyperparameters** <a class=\"anchor\" id=\"2.1.1\"></a> \n",
    "Default hyperparameter means C=1.0, kernel=rbf and gamma=auto among other parameters.\n",
    "\n",
    "---"
   ]
  },
  {
   "cell_type": "markdown",
   "metadata": {},
   "source": [
    "\n",
    "##### 2.1.1.1 **SVM with rbf kernel & C=1.0** <a class=\"anchor\" id=\"2.1.1.1\"></a> "
   ]
  },
  {
   "cell_type": "code",
   "execution_count": 21,
   "metadata": {},
   "outputs": [
    {
     "name": "stdout",
     "output_type": "stream",
     "text": [
      "Model accuracy score with default hyperparameters: 0.9859\n"
     ]
    }
   ],
   "source": [
    "rbf_svc1=svm.SVC(probability=True)                                        # instantiate classifier with default hyperparameters\n",
    "rbf_svc1.fit(X_train,y_train)                                             # fit classifier to training set\n",
    "y_pred=rbf_svc1.predict(X_test)                                           # make predictions on test set \n",
    "accur=metrics.accuracy_score(y_test, y_pred)                              # compute and print accuracy score\n",
    "print('Model accuracy score with default hyperparameters: {0:0.4f}'.format(accur))\n",
    "\n",
    "#.....................................................\n"
   ]
  },
  {
   "cell_type": "markdown",
   "metadata": {},
   "source": [
    "##### 2.1.1.2 **SVM with rbf kernel & C=100.0** <a class=\"anchor\" id=\"2.1.1.2\"></a> \n",
    "\n",
    "There may be outliers in our dataset due to different representations of the same signal. So, we should increase the value of C because higher C means fewer outliers. So, I'm going to run an SVM with kernel=rbf and C=100.0."
   ]
  },
  {
   "cell_type": "code",
   "execution_count": 22,
   "metadata": {},
   "outputs": [
    {
     "name": "stdout",
     "output_type": "stream",
     "text": [
      "Model accuracy score with rbf kernel and C=100.0 : 0.9951\n"
     ]
    }
   ],
   "source": [
    "rbf_svc2=svm.SVC(C=100.0,probability=True)                                # instantiate classifier with rbf kernel and C=100.0\n",
    "rbf_svc2.fit(X_train,y_train)                                             # fit classifier to training set\n",
    "y_pred=rbf_svc2.predict(X_test)                                           # make predictions on test set \n",
    "accur=metrics.accuracy_score(y_test, y_pred)                              # compute and print accuracy score\n",
    "print('Model accuracy score with rbf kernel and C=100.0 : {0:0.4f}'.format(accur))\n",
    "\n",
    "#.....................................................\n"
   ]
  },
  {
   "cell_type": "markdown",
   "metadata": {},
   "source": [
    "**`We can see that we obtain a higher accuracy with C=100.0 as higher C means less outliers.\n",
    "Now, I will further increase the value of C=1000.0 and check accuracy.`**"
   ]
  },
  {
   "cell_type": "markdown",
   "metadata": {},
   "source": [
    "##### 2.1.1.3 **SVM with rbf kernel & C=1000.0** <a class=\"anchor\" id=\"2.1.1.3\"></a> "
   ]
  },
  {
   "cell_type": "code",
   "execution_count": 23,
   "metadata": {},
   "outputs": [
    {
     "name": "stdout",
     "output_type": "stream",
     "text": [
      "Model accuracy score with rbf kernel and C=1000.0 : 0.9950\n"
     ]
    }
   ],
   "source": [
    "rbf_svc3=svm.SVC(C=1000.0,probability=True)                               # instantiate classifier with rbf kernel and C=1000.0\n",
    "rbf_svc3.fit(X_train,y_train)                                             # fit classifier to training set\n",
    "y_pred=rbf_svc3.predict(X_test)                                           # make predictions on test set \n",
    "accur=metrics.accuracy_score(y_test, y_pred)                              # compute and print accuracy score\n",
    "print('Model accuracy score with rbf kernel and C=1000.0 : {0:0.4f}'.format(accur))\n",
    "\n",
    "#.....................................................\n",
    "    "
   ]
  },
  {
   "cell_type": "markdown",
   "metadata": {},
   "source": [
    "**`In this case, we can see that the accuracy had decreased with C=1000.0`**"
   ]
  },
  {
   "cell_type": "markdown",
   "metadata": {},
   "source": [
    "---\n",
    "#### 2.1.2 **SVM with linear kernel** <a class=\"anchor\" id=\"2.1.1\"></a> \n"
   ]
  },
  {
   "cell_type": "markdown",
   "metadata": {},
   "source": [
    "---\n",
    "##### 2.1.2.1 **SVM with linear kernel & C=1.0** <a class=\"anchor\" id=\"2.1.2.1\"></a> "
   ]
  },
  {
   "cell_type": "code",
   "execution_count": 24,
   "metadata": {},
   "outputs": [
    {
     "name": "stdout",
     "output_type": "stream",
     "text": [
      "Model accuracy score with linear kernel and C=1.0 : 0.9760\n"
     ]
    }
   ],
   "source": [
    "linear_svc1=svm.SVC(kernel='linear', C=1.0,probability=True)               # instantiate classifier linear kernel and C=1.0\n",
    "linear_svc1.fit(X_train,y_train)                                           # fit classifier to training set\n",
    "y_pred=linear_svc1.predict(X_test)                                         # make predictions on test set \n",
    "accur=metrics.accuracy_score(y_test, y_pred)                               # compute and print accuracy score\n",
    "print('Model accuracy score with linear kernel and C=1.0 : {0:0.4f}'.format(accur))\n",
    "\n",
    "#.....................................................\n"
   ]
  },
  {
   "cell_type": "markdown",
   "metadata": {},
   "source": [
    "\n",
    "##### 2.1.2.2 **SVM with linear kernel & C=100.0** <a class=\"anchor\" id=\"2.1.2.2\"></a> "
   ]
  },
  {
   "cell_type": "code",
   "execution_count": 25,
   "metadata": {},
   "outputs": [
    {
     "name": "stdout",
     "output_type": "stream",
     "text": [
      "Model accuracy score with linear kernel and C=100.0 : 0.9787\n"
     ]
    }
   ],
   "source": [
    "linear_svc2=svm.SVC(kernel='linear', C=100.0,probability=True)               # instantiate classifier linear kernel and C=100.0\n",
    "linear_svc2.fit(X_train,y_train)                                             # fit classifier to training set\n",
    "y_pred=linear_svc2.predict(X_test)                                           # make predictions on test set \n",
    "accur=metrics.accuracy_score(y_test, y_pred)                                 # compute and print accuracy score\n",
    "print('Model accuracy score with linear kernel and C=100.0 : {0:0.4f}'.format(accur))\n",
    "\n",
    "#.....................................................\n"
   ]
  },
  {
   "cell_type": "markdown",
   "metadata": {},
   "source": [
    "##### 2.1.2.3 **SVM with linear kernel & C=1000.0** <a class=\"anchor\" id=\"2.1.2.3\"></a> "
   ]
  },
  {
   "cell_type": "code",
   "execution_count": 26,
   "metadata": {},
   "outputs": [
    {
     "name": "stdout",
     "output_type": "stream",
     "text": [
      "Model accuracy score with linear kernel and C=1000.0 : 0.9784\n"
     ]
    }
   ],
   "source": [
    "linear_svc3=svm.SVC(kernel='linear', C=1000.0,probability=True)              # instantiate classifier linear kernel and C=1000.0\n",
    "linear_svc3.fit(X_train,y_train)                                             # fit classifier to training set\n",
    "y_pred=linear_svc3.predict(X_test)                                           # make predictions on test set \n",
    "accur=metrics.accuracy_score(y_test, y_pred)                                 # compute and print accuracy score\n",
    "print('Model accuracy score with line ar kernel and C=1000.0 : {0:0.4f}'.format(accur))\n",
    "\n",
    "#.....................................................\n"
   ]
  },
  {
   "cell_type": "markdown",
   "metadata": {},
   "source": [
    "**`We can see that we can obtain higher accuracy with C=100.0 and C=1000.0 as compared to C=1.0.`**"
   ]
  },
  {
   "cell_type": "markdown",
   "metadata": {},
   "source": [
    "---\n",
    "#### 2.1.3 **SVM with polynomial kernel** <a class=\"anchor\" id=\"2.1.3\"></a> "
   ]
  },
  {
   "cell_type": "markdown",
   "metadata": {},
   "source": [
    "---\n",
    "##### 2.1.3.1 **SVM with polynomial kernel & C=1.0** <a class=\"anchor\" id=\"2.1.3.1\"></a> "
   ]
  },
  {
   "cell_type": "code",
   "execution_count": 27,
   "metadata": {},
   "outputs": [
    {
     "name": "stdout",
     "output_type": "stream",
     "text": [
      "Model accuracy score with polynomial kernel and C=1.0 : 0.9850\n"
     ]
    }
   ],
   "source": [
    "poly_svc1=svm.SVC(kernel='poly', C=1.0,probability=True)                 # instantiate classifier polynomial kernel and C=1.0\n",
    "poly_svc1.fit(X_train,y_train)                                           # fit classifier to training set\n",
    "y_pred=poly_svc1.predict(X_test)                                         # make predictions on test set \n",
    "accur=metrics.accuracy_score(y_test, y_pred)                             # compute and print accuracy score\n",
    "print('Model accuracy score with polynomial kernel and C=1.0 : {0:0.4f}'.format(accur))\n",
    "\n",
    "#.....................................................\n"
   ]
  },
  {
   "cell_type": "markdown",
   "metadata": {},
   "source": [
    "##### 2.1.3.2 **SVM with polynomial kernel & C=100.0** <a class=\"anchor\" id=\"2.1.3.2\"></a> "
   ]
  },
  {
   "cell_type": "code",
   "execution_count": 28,
   "metadata": {},
   "outputs": [
    {
     "name": "stdout",
     "output_type": "stream",
     "text": [
      "Model accuracy score with polynomial kernel and C=100.0 : 0.9940\n"
     ]
    }
   ],
   "source": [
    "poly_svc2=svm.SVC(kernel='poly', C=100.0,probability=True)               # instantiate classifier polynomial kernel and C=100.0\n",
    "poly_svc2.fit(X_train,y_train)                                           # fit classifier to training set\n",
    "y_pred=poly_svc2.predict(X_test)                                         # make predictions on test set \n",
    "accur=metrics.accuracy_score(y_test, y_pred)                             # compute and print accuracy score\n",
    "print('Model accuracy score with polynomial kernel and C=100.0 : {0:0.4f}'.format(accur))\n",
    "\n",
    "#.....................................................\n"
   ]
  },
  {
   "cell_type": "markdown",
   "metadata": {},
   "source": [
    "##### 2.1.3.3 **SVM with polynomial kernel & C=1000.0** <a class=\"anchor\" id=\"2.1.3.3\"></a> "
   ]
  },
  {
   "cell_type": "code",
   "execution_count": 29,
   "metadata": {},
   "outputs": [
    {
     "name": "stdout",
     "output_type": "stream",
     "text": [
      "Model accuracy score with polynomial kernel and C=1000.0 : 0.9934\n"
     ]
    }
   ],
   "source": [
    "poly_svc3=svm.SVC(kernel='poly', C=1000.0,probability=True)              # instantiate classifier polynomial kernel and C=1000.0\n",
    "poly_svc3.fit(X_train,y_train)                                           # fit classifier to training set\n",
    "y_pred=poly_svc3.predict(X_test)                                         # make predictions on test set \n",
    "accur=metrics.accuracy_score(y_test, y_pred)                             # compute and print accuracy score\n",
    "print('Model accuracy score with polynomial kernel and C=1000.0 : {0:0.4f}'.format(accur))\n",
    "\n",
    "#.....................................................\n"
   ]
  },
  {
   "cell_type": "markdown",
   "metadata": {},
   "source": [
    "---\n",
    " **Check for overfitting and underfitting** "
   ]
  },
  {
   "cell_type": "code",
   "execution_count": 30,
   "metadata": {},
   "outputs": [
    {
     "name": "stdout",
     "output_type": "stream",
     "text": [
      "Training set svm with rbf kernel & C= 1 score: 0.9866\n",
      "Test set svm with rbf kernel & C= 1 score: 0.9859\n",
      "Training set svm with rbf kernel & C= 100 score: 0.9995\n",
      "Test set svm with rbf kernel & C= 100 score: 0.9951\n",
      "Training set svm with rbf kernel & C= 1000 score: 0.9998\n",
      "Test set svm with rbf kernel & C= 1000 score: 0.9950\n",
      "Training set svm with linear kernel & C= 1 score: 0.9787\n",
      "Test set svm with linear kernel & C= 1 score: 0.9760\n",
      "Training set svm with linear kernel & C= 100 score: 0.9835\n",
      "Test set svm with linear kernel & C= 100 score: 0.9787\n",
      "Training set svm with linear kernel & C= 1000 score: 0.9839\n",
      "Test set svm with linear kernel & C= 1000 score: 0.9784\n",
      "Training set svm with poly kernel & C= 1 score: 0.9873\n",
      "Test set svm with poly kernel & C= 1 score: 0.9850\n",
      "Training set svm with poly kernel & C= 100 score: 0.9993\n",
      "Test set svm with poly kernel & C= 100 score: 0.9940\n",
      "Training set svm with poly kernel & C= 1000 score: 0.9998\n",
      "Test set svm with poly kernel & C= 1000 score: 0.9934\n"
     ]
    }
   ],
   "source": [
    "svm_models={\n",
    "            \"rbf\":{\n",
    "                1:rbf_svc1,\n",
    "                100:rbf_svc2,\n",
    "                1000:rbf_svc3\n",
    "            },\n",
    "    \n",
    "            \"linear\":{\n",
    "                1:linear_svc1,\n",
    "                100:linear_svc2,\n",
    "                1000:linear_svc3\n",
    "            },\n",
    "    \n",
    "            \"poly\":{\n",
    "                1:poly_svc1,\n",
    "                100:poly_svc2,\n",
    "                1000:poly_svc3\n",
    "            }\n",
    "           }\n",
    "\n",
    "for k in svm_models:\n",
    "    for m in svm_models[k]:\n",
    "        print('Training set svm with {} kernel & C= {} score: {:.4f}'.format(k,m,svm_models[k][m].score(X_train, y_train)))\n",
    "        print('Test set svm with {} kernel & C= {} score: {:.4f}'.format(k,m,svm_models[k][m].score(X_test, y_test)))\n",
    "        \n",
    "\n",
    "#.....................................................\n"
   ]
  },
  {
   "cell_type": "markdown",
   "metadata": {},
   "source": [
    "**The accuracy of the training set and the test set's accuracy in each kernel are quite similar. Therefore, there is no question of overfitting.** "
   ]
  },
  {
   "cell_type": "markdown",
   "metadata": {},
   "source": [
    "Undoubtedly, we will choose the best hyperparameters  that achieves higher accuracy in the test data and also the training data, which is less prone to overfitting and underfitting.\n",
    "\n",
    "It is hyperparameters kernel=rbf & C= 100, The training and testing accuracy of these parameters is 0.9995,0.9951.\n",
    "\n",
    "**`We will take care of these parameters in the rest of the steps`**"
   ]
  },
  {
   "cell_type": "markdown",
   "metadata": {},
   "source": [
    "---\n",
    "### Comments\n",
    "\n",
    "\n",
    "We get maximum accuracy with `rbf` and `polynomial` kernel with C=100.0. and the accuracy is 0.9951,0.9940. Based on the above analysis we can conclude that our classification model accuracy is very good. Our model is doing a very good job in terms of predicting the class labels.\n",
    "\n",
    "\n",
    "But this is not true. Here, we have some classes in the data set that are unbalanced as (M,N) as shown earlier when we presented the distribution of classes in the data set. The problem is that accuracy is an insufficient measure of predictive performance in the unbalanced dataset problem.\n",
    "\n",
    "\n",
    "So, we must explore alternative metrices that provide better guidance in selecting models. In particular, we would like to know the underlying distribution of values and the type of errors our classifer is making. \n",
    "\n",
    "\n",
    "One such metric to analyze the model performance in imbalanced classes problem is `Confusion matrix`."
   ]
  },
  {
   "cell_type": "markdown",
   "metadata": {},
   "source": [
    "---\n",
    "### Confusion matrix\n",
    "\n",
    "\n",
    "\n",
    "A confusion matrix is a tool for summarizing the performance of a classification algorithm. A confusion matrix will give us a clear picture of classification model performance and the types of errors produced by the model. It gives us a summary of correct and incorrect predictions broken down by each category. The summary is represented in a tabular form.\n",
    "\n",
    "\n",
    "Four types of outcomes are possible while evaluating a classification model performance. These four outcomes are described below:-\n",
    "\n",
    "\n",
    "**True Positives (TP)** – True Positives occur when we predict an observation belongs to a certain class and the observation actually belongs to that class.\n",
    "\n",
    "\n",
    "**True Negatives (TN)** – True Negatives occur when we predict an observation does not belong to a certain class and the observation actually does not belong to that class.\n",
    "\n",
    "\n",
    "**False Positives (FP)** – False Positives occur when we predict an observation belongs to a    certain class but the observation actually does not belong to that class. This type of error is called **Type I error.**\n",
    "\n",
    "\n",
    "\n",
    "**False Negatives (FN)** – False Negatives occur when we predict an observation does not belong to a certain class but the observation actually belongs to that class. This is a very serious error and it is called **Type II error.**\n",
    "\n",
    "\n",
    "\n",
    "These four outcomes are summarized in a confusion matrix given below.\n"
   ]
  },
  {
   "cell_type": "code",
   "execution_count": 31,
   "metadata": {},
   "outputs": [
    {
     "data": {
      "image/png": "[encoded data removed]",
      "text/plain": [
       "<Figure size 2000x2000 with 2 Axes>"
      ]
     },
     "metadata": {},
     "output_type": "display_data"
    }
   ],
   "source": [
    "cm = metrics.confusion_matrix(y_test, rbf_svc2.predict(X_test))\n",
    "ylable=[chr(i) for i in range(65,91)]\n",
    "ylable.remove('Z')\n",
    "ylable.remove('J')\n",
    "cm_df = pd.DataFrame(cm,index=ylable,columns=ylable)\n",
    "\n",
    "plt.figure(figsize=(20,20))\n",
    "\n",
    "\n",
    "sns.heatmap(cm_df, annot=True,fmt='.0f')\n",
    "plt.title('Confusion Matrix')\n",
    "plt.ylabel('Actal Values')\n",
    "plt.xlabel('Predicted Values')\n",
    "plt.show()\n",
    "\n",
    "#.....................................................\n"
   ]
  },
  {
   "cell_type": "markdown",
   "metadata": {},
   "source": [
    "---\n",
    "### Classification Report"
   ]
  },
  {
   "cell_type": "markdown",
   "metadata": {},
   "source": [
    "Classification report is another way to evaluate the classification model performance. It displays the precision, recall, f1 and support scores for the model\n"
   ]
  },
  {
   "cell_type": "code",
   "execution_count": 32,
   "metadata": {},
   "outputs": [
    {
     "name": "stdout",
     "output_type": "stream",
     "text": [
      "              precision    recall  f1-score   support\n",
      "\n",
      "           A       1.00      1.00      1.00      1494\n",
      "           B       1.00      1.00      1.00      1697\n",
      "           C       1.00      0.99      1.00      1289\n",
      "           D       1.00      1.00      1.00      1640\n",
      "           E       0.99      0.99      0.99      1484\n",
      "           F       1.00      1.00      1.00      2170\n",
      "           G       0.99      1.00      0.99      1746\n",
      "           H       0.99      1.00      0.99      1743\n",
      "           I       1.00      0.99      1.00      1627\n",
      "           K       1.00      1.00      1.00      1952\n",
      "           L       1.00      1.00      1.00      1847\n",
      "           M       0.97      0.97      0.97       905\n",
      "           N       0.97      0.97      0.97       732\n",
      "           O       1.00      1.00      1.00      1483\n",
      "           P       1.00      1.00      1.00      1356\n",
      "           Q       1.00      1.00      1.00      1293\n",
      "           R       0.99      1.00      1.00      1687\n",
      "           S       0.99      0.99      0.99      1656\n",
      "           T       0.99      1.00      1.00      1516\n",
      "           U       1.00      0.99      0.99      1714\n",
      "           V       0.99      1.00      1.00      1660\n",
      "           W       1.00      0.99      1.00      1704\n",
      "           X       0.99      1.00      0.99      1494\n",
      "           Y       1.00      1.00      1.00      1690\n",
      "\n",
      "    accuracy                           1.00     37579\n",
      "   macro avg       0.99      0.99      0.99     37579\n",
      "weighted avg       1.00      1.00      1.00     37579\n",
      "\n"
     ]
    }
   ],
   "source": [
    "print(metrics.classification_report(encoder.inverse_transform(y_test), encoder.inverse_transform(rbf_svc2.predict(X_test))))"
   ]
  },
  {
   "cell_type": "markdown",
   "metadata": {},
   "source": [
    "---\n",
    "### Stratified k-fold Cross Validation with shuffle split\n",
    "\n",
    "k-fold cross-validation is a very useful technique to evaluate model performance. But, it fails here because we have a imbalnced dataset. So, in the case of imbalanced dataset, I will use another technique to evaluate model performance. It is called `stratified k-fold cross-validation`.\n",
    "\n",
    "\n",
    "In `stratified k-fold cross-validation`, we split the data such that the proportions between classes are the same in each fold as they are in the whole dataset.\n",
    "\n",
    "\n",
    "Moreover, I will shuffle the data before splitting because shuffling yields much better result."
   ]
  },
  {
   "cell_type": "markdown",
   "metadata": {},
   "source": [
    "#### Stratified k-Fold Cross Validation with shuffle split with  rbf kernel & c=100"
   ]
  },
  {
   "cell_type": "code",
   "execution_count": 33,
   "metadata": {},
   "outputs": [],
   "source": [
    "kfold=KFold(n_splits=5, shuffle=True, random_state=0)\n",
    "rbf_svc=svm.SVC(kernel='rbf',C=100.0)\n",
    "rbf_scores = cross_val_score(rbf_svc, X, y, cv=kfold)\n",
    "\n",
    "#.....................................................\n"
   ]
  },
  {
   "cell_type": "markdown",
   "metadata": {},
   "source": [
    "cross-validation scores with rbf kernel & C=100.0"
   ]
  },
  {
   "cell_type": "code",
   "execution_count": 34,
   "metadata": {},
   "outputs": [
    {
     "name": "stdout",
     "output_type": "stream",
     "text": [
      "Stratified cross-validation scores with rbf kernel & C=100.0 :\n",
      "\n",
      "[0.99305472 0.99225642 0.99173719 0.99221619 0.99041993]\n"
     ]
    }
   ],
   "source": [
    "print('Stratified cross-validation scores with rbf kernel & C=100.0 :\\n\\n{}'.format(rbf_scores))"
   ]
  },
  {
   "cell_type": "markdown",
   "metadata": {},
   "source": [
    "average cross-validation score with rbf kernel & C=100.0"
   ]
  },
  {
   "cell_type": "code",
   "execution_count": 35,
   "metadata": {},
   "outputs": [
    {
     "name": "stdout",
     "output_type": "stream",
     "text": [
      "Average stratified cross-validation score with rbf & C=100.0 :0.9919\n"
     ]
    }
   ],
   "source": [
    "print('Average stratified cross-validation score with rbf & C=100.0 :{:.4f}'.format(rbf_scores.mean()))"
   ]
  },
  {
   "cell_type": "markdown",
   "metadata": {},
   "source": [
    "---\n",
    "### Model Save "
   ]
  },
  {
   "cell_type": "code",
   "execution_count": 36,
   "metadata": {},
   "outputs": [],
   "source": [
    "filename=\"svm_rbf_c_100.sav\"\n",
    "path=model_path+filename\n",
    "pickle.dump(rbf_svc2, open(path, 'wb'))\n",
    "\n",
    "#.....................................................\n"
   ]
  },
  {
   "cell_type": "markdown",
   "metadata": {},
   "source": [
    "---\n",
    "## Results and conclusion \n",
    "\n",
    "\n",
    "There are outliers in our dataset. So, as I increase the value of C to limit fewer outliers, the accuracy increased. This is true with different kinds of kernels.\n",
    "\n",
    "get maximum accuracy `rbf` and `polynomial` kernel with C=100.0 and the accuracy is0.9951,0.9940. So, we can conclude that our model is doing a very good job in terms of predicting the class labels. But, this is not true. Here, we have an imbalanced dataset. Accuracy is an inadequate measure for quantifying predictive performance in the imbalanced dataset problem. So, we must explore confusion matrix that provide better guidance in selecting models.\n",
    "\n",
    "I obtain higher average stratified k-fold cross-validation score of `0.9919` with rbf kernel but the model accuracy is `0.9951`.\n",
    "So, stratified cross-validation technique does not help to improve the model performance."
   ]
  },
  {
   "cell_type": "markdown",
   "metadata": {},
   "source": [
    "---\n",
    "### 2.2 **Multlayer Perceptron (MLP)** <a class=\"anchor\" id=\"2.2\"></a> "
   ]
  },
  {
   "cell_type": "markdown",
   "metadata": {},
   "source": [
    "Multlayer Perceptron. ......"
   ]
  },
  {
   "cell_type": "markdown",
   "metadata": {},
   "source": [
    "---\n",
    "#### 2.2.1 **A function that divides data into 3 groups.** <a class=\"anchor\" id=\"2.2.1\"></a> \n",
    "\n",
    "\n",
    "Input(Is Flipe Hand,Dirction Hand) \n",
    "\n",
    "Input(Conners Fingers)               \n",
    "\n",
    "Input(Coners Thume And All Fingers)\n",
    "\n",
    "---------------------------------------\n"
   ]
  },
  {
   "cell_type": "code",
   "execution_count": 37,
   "metadata": {},
   "outputs": [],
   "source": [
    "def DataSet_Group(data):\n",
    "    group1 = data[:,0:2]\n",
    "    group2 = data[:,2:18]\n",
    "    group3 = data[:,18:]\n",
    "    return [group1,group2,group3]\n",
    "\n",
    "#....................................................."
   ]
  },
  {
   "cell_type": "markdown",
   "metadata": {},
   "source": [
    "---\n",
    "#### 2.2.2 **A function that converts groups into 3D dimensions.** <a class=\"anchor\" id=\"2.2.2\"></a> \n"
   ]
  },
  {
   "cell_type": "code",
   "execution_count": 38,
   "metadata": {},
   "outputs": [],
   "source": [
    "def Convert_3DGroup(groups,axis=2):\n",
    "    _3Dgroups=[]\n",
    "    for i in range(len(groups)):\n",
    "        _3Dgroups.append(np.expand_dims(groups[i],axis=axis))\n",
    "    return _3Dgroups\n",
    "\n",
    "#....................................................."
   ]
  },
  {
   "cell_type": "markdown",
   "metadata": {},
   "source": [
    "---\n",
    "#### 2.2.3 **A function that creates input layers according to divided groups.** <a class=\"anchor\" id=\"2.2.3\"></a> \n"
   ]
  },
  {
   "cell_type": "code",
   "execution_count": 39,
   "metadata": {},
   "outputs": [],
   "source": [
    "def Input_layers_3Dgroups(_3Dgroups):\n",
    "    input_3Dgroups=[]\n",
    "    for i in range(len(_3Dgroups)):\n",
    "        input_3Dgroups.append(Input(shape=(_3Dgroups[i].shape[1],_3Dgroups[i].shape[2])))\n",
    "    return input_3Dgroups\n",
    "\n",
    "#....................................................."
   ]
  },
  {
   "cell_type": "markdown",
   "metadata": {},
   "source": [
    "\n",
    "Dividing the training and test data into groups, and converting the dimensions of each group into three dimensions."
   ]
  },
  {
   "cell_type": "code",
   "execution_count": 40,
   "metadata": {},
   "outputs": [
    {
     "name": "stdout",
     "output_type": "stream",
     "text": [
      "len [training_dataset_groups]= 3\n",
      "len [testing_dataset_groups]= 3\n",
      "len [training_dataset_3Dgroups]= 3\n",
      "len [testing_dataset_3Dgroups]= 3\n"
     ]
    }
   ],
   "source": [
    "training_dataset_groups=DataSet_Group(X_train.values)\n",
    "testing_dataset_groups=DataSet_Group(X_test.values)\n",
    "\n",
    "training_dataset_3Dgroups=Convert_3DGroup(training_dataset_groups,axis=2)\n",
    "testing_dataset_3Dgroups=Convert_3DGroup(testing_dataset_groups,axis=2)\n",
    "\n",
    "print(\"len [training_dataset_groups]=\",len(training_dataset_groups))\n",
    "print(\"len [testing_dataset_groups]=\",len(testing_dataset_groups))\n",
    "print(\"len [training_dataset_3Dgroups]=\",len(training_dataset_3Dgroups))\n",
    "print(\"len [testing_dataset_3Dgroups]=\",len(testing_dataset_3Dgroups))\n",
    "\n",
    "#........................\n"
   ]
  },
  {
   "cell_type": "markdown",
   "metadata": {},
   "source": [
    "\n",
    "Configure MlP Input Layers."
   ]
  },
  {
   "cell_type": "code",
   "execution_count": 41,
   "metadata": {},
   "outputs": [
    {
     "name": "stdout",
     "output_type": "stream",
     "text": [
      "number Input layers [training_Input_3Dgroups] = 3\n"
     ]
    }
   ],
   "source": [
    "training_Input_3Dgroups=Input_layers_3Dgroups(training_dataset_3Dgroups)\n",
    "print(\"number Input layers [training_Input_3Dgroups] =\",len(training_Input_3Dgroups))"
   ]
  },
  {
   "cell_type": "markdown",
   "metadata": {},
   "source": [
    "---\n",
    "#### 2.2.4 **Categorize the Labels.** <a class=\"anchor\" id=\"2.2.4\"></a>"
   ]
  },
  {
   "cell_type": "code",
   "execution_count": 42,
   "metadata": {},
   "outputs": [
    {
     "data": {
      "text/plain": [
       "array([[0., 0., 1., ..., 0., 0., 0.],\n",
       "       [0., 0., 0., ..., 0., 0., 0.],\n",
       "       [0., 0., 0., ..., 0., 0., 0.],\n",
       "       ...,\n",
       "       [1., 0., 0., ..., 0., 0., 0.],\n",
       "       [0., 0., 0., ..., 0., 0., 0.],\n",
       "       [0., 0., 0., ..., 0., 0., 1.]], dtype=float32)"
      ]
     },
     "execution_count": 42,
     "metadata": {},
     "output_type": "execute_result"
    }
   ],
   "source": [
    "y_train =to_categorical(y_train, 24)\n",
    "y_test =to_categorical(y_test, 24)\n",
    "y_train"
   ]
  },
  {
   "cell_type": "markdown",
   "metadata": {},
   "source": [
    "---\n",
    "#### 2.2.5 **Create Model.** <a class=\"anchor\" id=\"2.2.5\"></a>\n"
   ]
  },
  {
   "cell_type": "code",
   "execution_count": 43,
   "metadata": {},
   "outputs": [],
   "source": [
    "def Create_Model(training_dataset_3Dgroups,numclass=24):\n",
    "    \n",
    "    layer_1=Dense(4,activation='relu',kernel_initializer='glorot_uniform',\n",
    "                  input_shape=training_dataset_3Dgroups[0].shape[1:3])(training_Input_3Dgroups[0])\n",
    "    output_1 = Flatten()(layer_1)\n",
    "    \n",
    "    #.............................\n",
    "    \n",
    "    layer_2=Dense(4,activation='relu',kernel_initializer='glorot_uniform',\n",
    "                  input_shape=training_dataset_3Dgroups[1].shape[1:3])(training_Input_3Dgroups[1])\n",
    "    output_2 = Flatten()(layer_2)\n",
    "    \n",
    "    #.............................\n",
    "    \n",
    "    layer_3=Dense(4,activation='relu',kernel_initializer='glorot_uniform',\n",
    "                  input_shape=training_dataset_3Dgroups[2].shape[1:3])(training_Input_3Dgroups[2])\n",
    "    output_3 = Flatten()(layer_3)\n",
    "    \n",
    "    #.............................\n",
    "    \n",
    "    mergen=Concatenate(name='concatenate')([output_1, output_2, output_3])\n",
    "    \n",
    "    #.............................\n",
    "    \n",
    "    layer_4=Dense(30,activation='relu')(mergen)\n",
    "    \n",
    "    #.............................\n",
    "    \n",
    "    layer_5=Dense(numclass,activation='softmax')(layer_4)\n",
    "    \n",
    "    #.............................\n",
    "    model = Model(inputs=training_Input_3Dgroups, outputs=[layer_5])\n",
    "    \n",
    "    \n",
    "    return model\n",
    "                                                                    \n",
    "\n",
    "#.................................................................\n",
    "            "
   ]
  },
  {
   "cell_type": "code",
   "execution_count": 44,
   "metadata": {},
   "outputs": [],
   "source": [
    "model=Create_Model(training_dataset_3Dgroups,numclass=24)"
   ]
  },
  {
   "cell_type": "markdown",
   "metadata": {},
   "source": [
    "View a summary of the structure of the MLP model."
   ]
  },
  {
   "cell_type": "code",
   "execution_count": 45,
   "metadata": {},
   "outputs": [
    {
     "name": "stdout",
     "output_type": "stream",
     "text": [
      "Model: \"model\"\n",
      "__________________________________________________________________________________________________\n",
      " Layer (type)                   Output Shape         Param #     Connected to                     \n",
      "==================================================================================================\n",
      " input_1 (InputLayer)           [(None, 2, 1)]       0           []                               \n",
      "                                                                                                  \n",
      " input_2 (InputLayer)           [(None, 16, 1)]      0           []                               \n",
      "                                                                                                  \n",
      " input_3 (InputLayer)           [(None, 36, 1)]      0           []                               \n",
      "                                                                                                  \n",
      " dense (Dense)                  (None, 2, 4)         8           ['input_1[0][0]']                \n",
      "                                                                                                  \n",
      " dense_1 (Dense)                (None, 16, 4)        8           ['input_2[0][0]']                \n",
      "                                                                                                  \n",
      " dense_2 (Dense)                (None, 36, 4)        8           ['input_3[0][0]']                \n",
      "                                                                                                  \n",
      " flatten (Flatten)              (None, 8)            0           ['dense[0][0]']                  \n",
      "                                                                                                  \n",
      " flatten_1 (Flatten)            (None, 64)           0           ['dense_1[0][0]']                \n",
      "                                                                                                  \n",
      " flatten_2 (Flatten)            (None, 144)          0           ['dense_2[0][0]']                \n",
      "                                                                                                  \n",
      " concatenate (Concatenate)      (None, 216)          0           ['flatten[0][0]',                \n",
      "                                                                  'flatten_1[0][0]',              \n",
      "                                                                  'flatten_2[0][0]']              \n",
      "                                                                                                  \n",
      " dense_3 (Dense)                (None, 30)           6510        ['concatenate[0][0]']            \n",
      "                                                                                                  \n",
      " dense_4 (Dense)                (None, 24)           744         ['dense_3[0][0]']                \n",
      "                                                                                                  \n",
      "==================================================================================================\n",
      "Total params: 7,278\n",
      "Trainable params: 7,278\n",
      "Non-trainable params: 0\n",
      "__________________________________________________________________________________________________\n"
     ]
    }
   ],
   "source": [
    "model.summary()"
   ]
  },
  {
   "cell_type": "markdown",
   "metadata": {},
   "source": [
    "\n",
    "View the structure of the MLP model."
   ]
  },
  {
   "cell_type": "code",
   "execution_count": 46,
   "metadata": {},
   "outputs": [
    {
     "name": "stdout",
     "output_type": "stream",
     "text": [
      "You must install pydot (`pip install pydot`) and install graphviz (see instructions at https://graphviz.gitlab.io/download/) for plot_model to work.\n"
     ]
    }
   ],
   "source": [
    "plot_model(model,'MLP_Model_Img.png')"
   ]
  },
  {
   "cell_type": "markdown",
   "metadata": {},
   "source": [
    "---\n",
    "#### 2.2.6 **MLP Model Training.** <a class=\"anchor\" id=\"2.2.6\"></a>\n"
   ]
  },
  {
   "cell_type": "code",
   "execution_count": 47,
   "metadata": {},
   "outputs": [
    {
     "name": "stdout",
     "output_type": "stream",
     "text": [
      "Epoch 1/50\n",
      "2741/2741 [==============================] - 4s 1ms/step - loss: 0.3695 - accuracy: 0.9134 - val_loss: 0.1590 - val_accuracy: 0.9625\n",
      "Epoch 2/50\n",
      "2741/2741 [==============================] - 3s 1ms/step - loss: 0.1492 - accuracy: 0.9638 - val_loss: 0.1328 - val_accuracy: 0.9663\n",
      "Epoch 3/50\n",
      "2741/2741 [==============================] - 3s 1ms/step - loss: 0.1260 - accuracy: 0.9684 - val_loss: 0.1202 - val_accuracy: 0.9685\n",
      "Epoch 4/50\n",
      "2741/2741 [==============================] - 3s 1ms/step - loss: 0.1137 - accuracy: 0.9715 - val_loss: 0.1008 - val_accuracy: 0.9750\n",
      "Epoch 5/50\n",
      "2741/2741 [==============================] - 3s 1ms/step - loss: 0.1045 - accuracy: 0.9735 - val_loss: 0.1025 - val_accuracy: 0.9733\n",
      "Epoch 6/50\n",
      "2741/2741 [==============================] - 3s 1ms/step - loss: 0.0985 - accuracy: 0.9749 - val_loss: 0.1016 - val_accuracy: 0.9736\n",
      "Epoch 7/50\n",
      "2741/2741 [==============================] - 3s 1ms/step - loss: 0.0934 - accuracy: 0.9759 - val_loss: 0.0922 - val_accuracy: 0.9758\n",
      "Epoch 8/50\n",
      "2741/2741 [==============================] - 3s 1ms/step - loss: 0.0886 - accuracy: 0.9772 - val_loss: 0.1031 - val_accuracy: 0.9738\n",
      "Epoch 9/50\n",
      "2741/2741 [==============================] - 3s 1ms/step - loss: 0.0858 - accuracy: 0.9784 - val_loss: 0.0933 - val_accuracy: 0.9761\n",
      "Epoch 10/50\n",
      "2741/2741 [==============================] - 3s 1ms/step - loss: 0.0820 - accuracy: 0.9791 - val_loss: 0.0835 - val_accuracy: 0.9793\n",
      "Epoch 11/50\n",
      "2741/2741 [==============================] - 3s 1ms/step - loss: 0.0788 - accuracy: 0.9794 - val_loss: 0.0805 - val_accuracy: 0.9796\n",
      "Epoch 12/50\n",
      "2741/2741 [==============================] - 3s 1ms/step - loss: 0.0769 - accuracy: 0.9798 - val_loss: 0.0855 - val_accuracy: 0.9770\n",
      "Epoch 13/50\n",
      "2741/2741 [==============================] - 3s 1ms/step - loss: 0.0751 - accuracy: 0.9801 - val_loss: 0.0847 - val_accuracy: 0.9786\n",
      "Epoch 14/50\n",
      "2741/2741 [==============================] - 3s 1ms/step - loss: 0.0732 - accuracy: 0.9810 - val_loss: 0.0763 - val_accuracy: 0.9813\n",
      "Epoch 15/50\n",
      "2741/2741 [==============================] - 3s 1ms/step - loss: 0.0715 - accuracy: 0.9811 - val_loss: 0.0847 - val_accuracy: 0.9791\n",
      "Epoch 16/50\n",
      "2741/2741 [==============================] - 3s 1ms/step - loss: 0.0697 - accuracy: 0.9817 - val_loss: 0.0827 - val_accuracy: 0.9796\n",
      "Epoch 17/50\n",
      "2741/2741 [==============================] - 3s 1ms/step - loss: 0.0681 - accuracy: 0.9820 - val_loss: 0.0749 - val_accuracy: 0.9811\n",
      "Epoch 18/50\n",
      "2741/2741 [==============================] - 3s 1ms/step - loss: 0.0668 - accuracy: 0.9820 - val_loss: 0.0814 - val_accuracy: 0.9776\n",
      "Epoch 19/50\n",
      "2741/2741 [==============================] - 3s 1ms/step - loss: 0.0661 - accuracy: 0.9827 - val_loss: 0.0880 - val_accuracy: 0.9760\n",
      "Epoch 20/50\n",
      "2741/2741 [==============================] - 3s 1ms/step - loss: 0.0647 - accuracy: 0.9827 - val_loss: 0.0733 - val_accuracy: 0.9817\n",
      "Epoch 21/50\n",
      "2741/2741 [==============================] - 3s 1ms/step - loss: 0.0630 - accuracy: 0.9834 - val_loss: 0.0745 - val_accuracy: 0.9816\n",
      "Epoch 22/50\n",
      "2741/2741 [==============================] - 3s 1ms/step - loss: 0.0625 - accuracy: 0.9832 - val_loss: 0.0728 - val_accuracy: 0.9823\n",
      "Epoch 23/50\n",
      "2741/2741 [==============================] - 3s 1ms/step - loss: 0.0614 - accuracy: 0.9837 - val_loss: 0.0743 - val_accuracy: 0.9808\n",
      "Epoch 24/50\n",
      "2741/2741 [==============================] - 3s 1ms/step - loss: 0.0610 - accuracy: 0.9831 - val_loss: 0.0792 - val_accuracy: 0.9793\n",
      "Epoch 25/50\n",
      "2741/2741 [==============================] - 3s 1ms/step - loss: 0.0603 - accuracy: 0.9835 - val_loss: 0.0749 - val_accuracy: 0.9813\n",
      "Epoch 26/50\n",
      "2741/2741 [==============================] - 3s 1ms/step - loss: 0.0597 - accuracy: 0.9838 - val_loss: 0.0746 - val_accuracy: 0.9806\n",
      "Epoch 27/50\n",
      "2741/2741 [==============================] - 3s 1ms/step - loss: 0.0584 - accuracy: 0.9841 - val_loss: 0.0766 - val_accuracy: 0.9801\n",
      "Epoch 28/50\n",
      "2741/2741 [==============================] - 3s 1ms/step - loss: 0.0569 - accuracy: 0.9844 - val_loss: 0.0726 - val_accuracy: 0.9820\n",
      "Epoch 29/50\n",
      "2741/2741 [==============================] - 3s 1ms/step - loss: 0.0557 - accuracy: 0.9848 - val_loss: 0.0726 - val_accuracy: 0.9819\n",
      "Epoch 30/50\n",
      "2741/2741 [==============================] - 3s 1ms/step - loss: 0.0563 - accuracy: 0.9844 - val_loss: 0.0715 - val_accuracy: 0.9820\n",
      "Epoch 31/50\n",
      "2741/2741 [==============================] - 3s 1ms/step - loss: 0.0551 - accuracy: 0.9850 - val_loss: 0.0705 - val_accuracy: 0.9832\n",
      "Epoch 32/50\n",
      "2741/2741 [==============================] - 3s 1ms/step - loss: 0.0545 - accuracy: 0.9854 - val_loss: 0.0798 - val_accuracy: 0.9798\n",
      "Epoch 33/50\n",
      "2741/2741 [==============================] - 3s 1ms/step - loss: 0.0543 - accuracy: 0.9852 - val_loss: 0.0675 - val_accuracy: 0.9839\n",
      "Epoch 34/50\n",
      "2741/2741 [==============================] - 3s 1ms/step - loss: 0.0529 - accuracy: 0.9854 - val_loss: 0.0700 - val_accuracy: 0.9833\n",
      "Epoch 35/50\n",
      "2741/2741 [==============================] - 3s 1ms/step - loss: 0.0528 - accuracy: 0.9854 - val_loss: 0.0734 - val_accuracy: 0.9818\n",
      "Epoch 36/50\n",
      "2741/2741 [==============================] - 3s 1ms/step - loss: 0.0515 - accuracy: 0.9854 - val_loss: 0.0752 - val_accuracy: 0.9824\n",
      "Epoch 37/50\n",
      "2741/2741 [==============================] - 3s 1ms/step - loss: 0.0514 - accuracy: 0.9858 - val_loss: 0.0750 - val_accuracy: 0.9820\n",
      "Epoch 38/50\n",
      "2741/2741 [==============================] - 3s 1ms/step - loss: 0.0513 - accuracy: 0.9859 - val_loss: 0.0697 - val_accuracy: 0.9832\n",
      "Epoch 39/50\n",
      "2741/2741 [==============================] - 3s 1ms/step - loss: 0.0500 - accuracy: 0.9864 - val_loss: 0.0698 - val_accuracy: 0.9830\n",
      "Epoch 40/50\n",
      "2741/2741 [==============================] - 3s 1ms/step - loss: 0.0497 - accuracy: 0.9864 - val_loss: 0.0680 - val_accuracy: 0.9840\n",
      "Epoch 41/50\n",
      "2741/2741 [==============================] - 3s 1ms/step - loss: 0.0495 - accuracy: 0.9864 - val_loss: 0.0665 - val_accuracy: 0.9838\n",
      "Epoch 42/50\n",
      "2741/2741 [==============================] - 3s 1ms/step - loss: 0.0492 - accuracy: 0.9863 - val_loss: 0.0642 - val_accuracy: 0.9850\n",
      "Epoch 43/50\n",
      "2741/2741 [==============================] - 3s 1ms/step - loss: 0.0482 - accuracy: 0.9866 - val_loss: 0.0685 - val_accuracy: 0.9836\n",
      "Epoch 44/50\n",
      "2741/2741 [==============================] - 3s 1ms/step - loss: 0.0477 - accuracy: 0.9861 - val_loss: 0.0710 - val_accuracy: 0.9819\n",
      "Epoch 45/50\n",
      "2741/2741 [==============================] - 3s 1ms/step - loss: 0.0470 - accuracy: 0.9866 - val_loss: 0.0667 - val_accuracy: 0.9845\n",
      "Epoch 46/50\n",
      "2741/2741 [==============================] - 3s 1ms/step - loss: 0.0466 - accuracy: 0.9865 - val_loss: 0.0672 - val_accuracy: 0.9839\n",
      "Epoch 47/50\n",
      "2741/2741 [==============================] - 3s 1ms/step - loss: 0.0462 - accuracy: 0.9867 - val_loss: 0.0690 - val_accuracy: 0.9829\n",
      "Epoch 48/50\n",
      "2741/2741 [==============================] - 3s 1ms/step - loss: 0.0464 - accuracy: 0.9866 - val_loss: 0.0717 - val_accuracy: 0.9824\n",
      "Epoch 49/50\n",
      "2741/2741 [==============================] - 3s 1ms/step - loss: 0.0464 - accuracy: 0.9867 - val_loss: 0.0682 - val_accuracy: 0.9832\n",
      "Epoch 50/50\n",
      "2741/2741 [==============================] - 3s 1ms/step - loss: 0.0457 - accuracy: 0.9871 - val_loss: 0.0652 - val_accuracy: 0.9844\n"
     ]
    }
   ],
   "source": [
    "model.compile(loss='categorical_crossentropy', metrics=['accuracy'], optimizer ='Adam')\n",
    "\n",
    "hist = model.fit(training_dataset_3Dgroups,y_train, epochs =50,verbose =1,\n",
    "                 validation_data=(testing_dataset_3Dgroups,y_test))"
   ]
  },
  {
   "cell_type": "code",
   "execution_count": 48,
   "metadata": {},
   "outputs": [
    {
     "data": {
      "image/png": "[encoded data removed]",
      "text/plain": [
       "<Figure size 640x480 with 1 Axes>"
      ]
     },
     "metadata": {},
     "output_type": "display_data"
    }
   ],
   "source": [
    "loss_values = hist.history['loss']\n",
    "val_loss_values = hist.history['val_loss'] \n",
    "epochs = range(1, len(loss_values) + 1)\n",
    "\n",
    "# Plot the loss vs Epochs\n",
    "plt.plot(epochs, loss_values)\n",
    "plt.plot(epochs, val_loss_values)\n",
    "plt.title('Training & Validation Loss')\n",
    "plt.xlabel('Epochs')\n",
    "plt.ylabel('Loss')\n",
    "plt.legend(['Training Loss','Validation Loss'])\n",
    "plt.show()"
   ]
  },
  {
   "cell_type": "markdown",
   "metadata": {},
   "source": [
    "---\n",
    "#### 2.2.7 **Evaluating the model.** <a class=\"anchor\" id=\"2.2.7\"></a>\n"
   ]
  },
  {
   "cell_type": "code",
   "execution_count": 49,
   "metadata": {},
   "outputs": [
    {
     "name": "stdout",
     "output_type": "stream",
     "text": [
      "1175/1175 [==============================] - 1s 790us/step - loss: 0.0652 - accuracy: 0.9844\n",
      "0.9844328165054321\n"
     ]
    }
   ],
   "source": [
    "score = model.evaluate(testing_dataset_3Dgroups, y_test,verbose=1)\n",
    "print(score[1])"
   ]
  },
  {
   "cell_type": "markdown",
   "metadata": {},
   "source": [
    "---\n",
    "### Model Save "
   ]
  },
  {
   "cell_type": "code",
   "execution_count": 50,
   "metadata": {},
   "outputs": [],
   "source": [
    "filename=\"mlp_categorical_crossentropy_50\"\n",
    "path=model_path+filename\n",
    "model.save(path+'.h5')\n",
    "pickle.dump(rbf_svc2, open(path+'.sav', 'wb'))\n",
    "\n",
    "#....................................................."
   ]
  }
 ],
 "metadata": {
  "kernelspec": {
   "display_name": "Python 3 (ipykernel)",
   "language": "python",
   "name": "python3"
  },
  "language_info": {
   "codemirror_mode": {
    "name": "ipython",
    "version": 3
   },
   "file_extension": ".py",
   "mimetype": "text/x-python",
   "name": "python",
   "nbconvert_exporter": "python",
   "pygments_lexer": "ipython3",
   "version": "3.8.13"
  }
 },
 "nbformat": 4,
 "nbformat_minor": 4
}
