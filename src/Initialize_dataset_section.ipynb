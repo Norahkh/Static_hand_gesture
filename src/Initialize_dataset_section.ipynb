{
 "cells": [
  {
   "cell_type": "markdown",
   "metadata": {},
   "source": [
    "**First, we import all the libraries that we will be using in this section**"
   ]
  },
  {
   "cell_type": "code",
   "execution_count": 2,
   "metadata": {},
   "outputs": [],
   "source": [
    "import FeaturesExtracts\n",
    "import os  \n",
    "import numpy as np\n",
    "import cv2\n",
    "import mediapipe as mp\n",
    "import math\n",
    "import pandas as pd\n",
    "\n",
    "#............................................\n"
   ]
  },
  {
   "cell_type": "markdown",
   "metadata": {},
   "source": [
    "**A function that produces hand fetuers from images of the data set, based on the `FeaturesExtracts` code file, and saves these fetuers in a file.**"
   ]
  },
  {
   "cell_type": "code",
   "execution_count": 3,
   "metadata": {},
   "outputs": [],
   "source": [
    "def Fetuers_Extraction_And_Save(Path_Dataset,Path_File_Fetuers):\n",
    "    \n",
    "    hands=mp.solutions.hands.Hands(static_image_mode=True,max_num_hands=1,min_detection_confidence=0.7)\n",
    "    index=0\n",
    "    errorfile=0\n",
    "    fileobj=open(Path_File_Fetuers,'a')\n",
    "    for folder in [fd for fd in os.listdir(Path_Dataset) if os.path.isdir(Path_Dataset+'\\\\'+fd)]:\n",
    "        path=Path_Dataset+\"\\\\\"+folder\n",
    "        for file in [(path+'\\\\'+fi) for fi in os.listdir(path) if os.path.isfile(path+'\\\\'+fi)]:\n",
    "            \n",
    "            try:\n",
    "                \n",
    "                image=cv2.imread(file)\n",
    "                image= cv2.flip(image, 1)\n",
    "                res=hands.process(cv2.cvtColor(image, cv2.COLOR_BGR2RGB))  \n",
    "                \n",
    "                if res.multi_hand_landmarks:\n",
    "                    IsLeftHand=res.multi_handedness[0].classification[0].label!=\"Right\"\n",
    "                    \n",
    "                    Fetuers=FeaturesExtracts.HandFetuers.GetFeteuers(res.multi_hand_landmarks[0].landmark, IsLeftHand)\n",
    "                    \n",
    "                    FetuersAll=np.append(Fetuers,[[ord(folder)]],axis=1)    \n",
    "                    np.savetxt(fileobj,FetuersAll,fmt='%f',delimiter=';')\n",
    "                    index=index+1\n",
    "                    print(\"Proccessing Images = \",index)\n",
    "                    \n",
    "                   \n",
    "                    \n",
    "            except BaseException:\n",
    "                errorfile=errorfile+1\n",
    "                print('errror......')\n",
    "                continue\n",
    "                 \n",
    "      \n",
    "    fileobj.close()\n",
    "    print('.............................\\n',\"Correct files numbers= \",index)\n",
    "    print(\"Error files numbers= \",errorfile)\n",
    "    del hands\n",
    "    \n",
    "#............................................   \n",
    "                "
   ]
  },
  {
   "cell_type": "markdown",
   "metadata": {},
   "source": [
    "**The data set used in this project is pictures of English letters using sign language. All letters are used except for letters that depend on movement, which are (Z, J).**\n",
    "\n",
    "**`The dataset is available at:` https://www.kaggle.com/datasets/debashishsau/aslamerican-sign-language-aplhabet-dataset**"
   ]
  },
  {
   "cell_type": "code",
   "execution_count": null,
   "metadata": {},
   "outputs": [],
   "source": [
    "path_dataset=r\"SigNN Character Database\"\n",
    "path_fetuers=r\"..\\data\\data fetuers\\Data Fetuers.txt\"\n",
    "\n",
    "Fetuers_Extraction_And_Save(Path_Dataset=path_dataset,Path_File_Fetuers=path_fetuers)\n",
    "\n",
    "#............................................\n"
   ]
  },
  {
   "cell_type": "markdown",
   "metadata": {},
   "source": [
    "**View extracted properties**"
   ]
  },
  {
   "cell_type": "code",
   "execution_count": null,
   "metadata": {},
   "outputs": [],
   "source": [
    "df=pd.read_csv(path_fetuers,sep=';',header=None)\n",
    "df[df.columns[-1]]=df[df.columns[-1]].map(lambda x:chr(int(x))).astype(str)\n",
    "print(\"Dimensions of the data set = \",df.shape)\n",
    "X=df.iloc[:,:-1]\n",
    "Y=np.asarray(df.iloc[:,-1])\n",
    "\n",
    "df.sample(10)\n",
    "\n",
    "#............................................\n"
   ]
  }
 ],
 "metadata": {
  "kernelspec": {
   "display_name": "Python 3 (ipykernel)",
   "language": "python",
   "name": "python3"
  },
  "language_info": {
   "codemirror_mode": {
    "name": "ipython",
    "version": 3
   },
   "file_extension": ".py",
   "mimetype": "text/x-python",
   "name": "python",
   "nbconvert_exporter": "python",
   "pygments_lexer": "ipython3",
   "version": "3.8.13"
  }
 },
 "nbformat": 4,
 "nbformat_minor": 4
}
